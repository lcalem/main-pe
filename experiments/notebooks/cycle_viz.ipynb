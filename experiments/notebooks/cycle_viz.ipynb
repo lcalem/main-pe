{
 "cells": [
  {
   "cell_type": "code",
   "execution_count": null,
   "metadata": {},
   "outputs": [],
   "source": [
    "%load_ext autoreload\n",
    "%autoreload 2"
   ]
  },
  {
   "cell_type": "code",
   "execution_count": null,
   "metadata": {},
   "outputs": [],
   "source": [
    "import os\n",
    "import sys\n",
    "import yaml"
   ]
  },
  {
   "cell_type": "code",
   "execution_count": null,
   "metadata": {},
   "outputs": [],
   "source": [
    "sys.path.append(\"/home/caleml/main-pe/\")"
   ]
  },
  {
   "cell_type": "code",
   "execution_count": null,
   "metadata": {},
   "outputs": [],
   "source": [
    "import numpy as np\n",
    "import matplotlib.pyplot as plt"
   ]
  },
  {
   "cell_type": "code",
   "execution_count": null,
   "metadata": {},
   "outputs": [],
   "source": [
    "from data.datasets.h36m import Human36M\n",
    "from data.utils.data_utils import TEST_MODE, TRAIN_MODE, VALID_MODE\n",
    "from data.loader import BatchLoader"
   ]
  },
  {
   "cell_type": "code",
   "execution_count": null,
   "metadata": {},
   "outputs": [],
   "source": [
    "from model import config\n",
    "from model.utils import pose_format, log"
   ]
  },
  {
   "cell_type": "markdown",
   "metadata": {},
   "source": [
    "# Dataset"
   ]
  },
  {
   "cell_type": "code",
   "execution_count": null,
   "metadata": {},
   "outputs": [],
   "source": [
    "h36m_path = '/home/caleml/datasets/h36m'\n",
    "h36m = Human36M(h36m_path, dataconf=config.human36m_dataconf, poselayout=pose_format.pa17j3d, topology='frames') "
   ]
  },
  {
   "cell_type": "code",
   "execution_count": null,
   "metadata": {},
   "outputs": [],
   "source": [
    "# validation dataset\n",
    "data_val_h36m = BatchLoader(\n",
    "    h36m, \n",
    "    ['frame'], \n",
    "    ['pose_w', 'pose_uvd', 'afmat', 'camera'], \n",
    "    VALID_MODE, \n",
    "    batch_size=16, \n",
    "    shuffle=True)\n",
    "\n",
    "# batch_size=h36m.get_length(VALID_MODE), "
   ]
  },
  {
   "cell_type": "markdown",
   "metadata": {},
   "source": [
    "# Load models"
   ]
  },
  {
   "cell_type": "code",
   "execution_count": null,
   "metadata": {},
   "outputs": [],
   "source": [
    "exps = {\n",
    "    'cycle_tf2': '/home/caleml/pe_experiments/external/exp_20190517_1748_cycle_reduced_None_2b_bs16',\n",
    "    'cycle_tf12': '/home/caleml/pe_experiments/exp_20190517_1940_cycle_reduced_None_2b_bs16',\n",
    "    'cycle_128': '/home/caleml/pe_experiments/exp_20190507_1845_cycle_reduced_None_2b_bs16'\n",
    "}"
   ]
  },
  {
   "cell_type": "code",
   "execution_count": null,
   "metadata": {},
   "outputs": [],
   "source": [
    "best_data = {\n",
    "    'cycle_128': ['15', 70.45250463981606],\n",
    "    'cycle_tf12': ['7', 71.84316002648272],\n",
    "    'cycle_tf2': ['2', 77.12471914392282]\n",
    "}"
   ]
  },
  {
   "cell_type": "code",
   "execution_count": null,
   "metadata": {},
   "outputs": [],
   "source": [
    "from model.networks.cycle_reduced import CycleReduced\n",
    "\n",
    "eval_models = dict()\n",
    "\n",
    "for model_name, model_folder in exps.items():\n",
    "    \n",
    "    # config\n",
    "    config_file = os.path.join(model_folder, 'config.yaml')\n",
    "    with open(config_file, 'r') as f_conf:\n",
    "        model_config = yaml.safe_load(f_conf)\n",
    "        \n",
    "    # checkpoint h5\n",
    "    latest_file = None\n",
    "    latest_num = 0\n",
    "    for filename in os.listdir(model_folder):\n",
    "        if not filename.startswith('weights_'):\n",
    "            continue\n",
    "        \n",
    "        file_id = int(filename.split('_')[1].split('.')[0])\n",
    "        if file_id > latest_num:\n",
    "            latest_file = os.path.join(model_folder, filename)\n",
    "            latest_num = file_id\n",
    "    print('Found latest weights %s for model %s' % (latest_file, model_name))\n",
    "    \n",
    "    # load\n",
    "    eval_model = CycleReduced(dim=3, n_joints=17, nb_pose_blocks=model_config['pose_blocks'])\n",
    "    eval_model.build()\n",
    "    eval_model.load_weights(latest_file)\n",
    "    \n",
    "    eval_models[model_name] = eval_model"
   ]
  },
  {
   "cell_type": "markdown",
   "metadata": {},
   "source": [
    "## Eval"
   ]
  },
  {
   "cell_type": "code",
   "execution_count": null,
   "metadata": {},
   "outputs": [],
   "source": [
    "val_data = data_val_h36m.get_data(1, VALID_MODE)\n",
    "print(val_data['frame'].shape)"
   ]
  },
  {
   "cell_type": "code",
   "execution_count": null,
   "metadata": {},
   "outputs": [],
   "source": [
    "val_preds = dict()\n",
    "\n",
    "for model_name, eval_model in eval_models.items():\n",
    "    val_pred = eval_model.predict(val_data['frame'])\n",
    "    # print(val_pred.shape)\n",
    "    \n",
    "    val_preds[model_name] = val_pred"
   ]
  },
  {
   "cell_type": "markdown",
   "metadata": {},
   "source": [
    "### figure"
   ]
  },
  {
   "cell_type": "code",
   "execution_count": null,
   "metadata": {},
   "outputs": [],
   "source": [
    "batch_size = len(val_data['frame'])\n",
    "\n",
    "n_cols = 2 + len(eval_models)\n",
    "n_rows = batch_size\n",
    "fig, axes = plt.subplots(nrows=n_rows, ncols=n_cols, figsize=(12, 50))\n",
    "\n",
    "# column titles\n",
    "col_names = ['z_a_img', 'z_p_img'] + list(eval_models.keys())\n",
    "for ax, cname in zip(axes[0], col_names):\n",
    "    ax.set_title(cname)\n",
    "\n",
    "for i in range(batch_size):\n",
    "    z_a_img = val_data['frame'][i]\n",
    "    z_p_img = val_data['frame'][(i+1) % batch_size]\n",
    "\n",
    "    # z_a image\n",
    "    axes[i][0].imshow(z_a_img)\n",
    "\n",
    "    # z_p image\n",
    "    axes[i][1].imshow(z_p_img)\n",
    "\n",
    "    # i_hat_mixed\n",
    "    for j, val_pred in enumerate(val_preds.values()):\n",
    "        pred_img = val_pred[-1][i]  # i_hat_mixed is the last output\n",
    "        axes[i][2 + j].imshow(pred_img)\n",
    "    \n",
    "plt.tight_layout() \n",
    "plt.show()\n",
    "fig.savefig('/home/caleml/main-pe/experiments/cycle_viz_comparison.png')"
   ]
  },
  {
   "cell_type": "code",
   "execution_count": null,
   "metadata": {},
   "outputs": [],
   "source": [
    "fig, axes = plt.subplots(nrows=n_rows, ncols=n_cols, figsize=(12, 75))\n",
    "\n",
    "axes[0][0].imshow(pred_img)"
   ]
  },
  {
   "cell_type": "code",
   "execution_count": null,
   "metadata": {},
   "outputs": [],
   "source": []
  }
 ],
 "metadata": {
  "kernelspec": {
   "display_name": "Python 3",
   "language": "python",
   "name": "python3"
  },
  "language_info": {
   "codemirror_mode": {
    "name": "ipython",
    "version": 3
   },
   "file_extension": ".py",
   "mimetype": "text/x-python",
   "name": "python",
   "nbconvert_exporter": "python",
   "pygments_lexer": "ipython3",
   "version": "3.4.6"
  }
 },
 "nbformat": 4,
 "nbformat_minor": 2
}

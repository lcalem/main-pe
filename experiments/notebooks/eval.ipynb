{
 "cells": [
  {
   "cell_type": "code",
   "execution_count": 4,
   "metadata": {},
   "outputs": [],
   "source": [
    "%load_ext autoreload\n",
    "%autoreload 2"
   ]
  },
  {
   "cell_type": "code",
   "execution_count": 5,
   "metadata": {},
   "outputs": [],
   "source": [
    "import datetime\n",
    "import json\n",
    "import os\n",
    "import sys\n",
    "import time\n",
    "import yaml\n",
    "\n",
    "from pprint import pprint\n",
    "from collections import defaultdict"
   ]
  },
  {
   "cell_type": "code",
   "execution_count": 6,
   "metadata": {},
   "outputs": [],
   "source": [
    "sys.path.append(\"/home/caleml/main-pe/\")"
   ]
  },
  {
   "cell_type": "code",
   "execution_count": 7,
   "metadata": {},
   "outputs": [],
   "source": [
    "import numpy as np\n",
    "\n",
    "from data.datasets.h36m import Human36M\n",
    "from data.loader import BatchLoader\n",
    "from data.utils import transform, camera\n",
    "from data.utils.data_utils import TEST_MODE, TRAIN_MODE, VALID_MODE\n",
    "\n",
    "from model import config, measures\n",
    "from model.networks.multi_branch_model import MultiBranchModel\n",
    "from model.utils import pose_format, log"
   ]
  },
  {
   "cell_type": "markdown",
   "metadata": {},
   "source": [
    "## dataset"
   ]
  },
  {
   "cell_type": "code",
   "execution_count": null,
   "metadata": {},
   "outputs": [],
   "source": [
    "# local loading\n",
    "local_h36m_path = '/home/caleml/datasets/h36m'\n",
    "local_h36m = Human36M(local_h36m_path, dataconf=config.human36m_dataconf, poselayout=pose_format.pa17j3d, topology='frames') "
   ]
  },
  {
   "cell_type": "code",
   "execution_count": null,
   "metadata": {},
   "outputs": [],
   "source": [
    "h36m_val = BatchLoader(local_h36m, \n",
    "                       ['frame'],\n",
    "                       ['pose_w', 'pose_uvd', 'afmat', 'camera'], \n",
    "                       VALID_MODE,\n",
    "                       batch_size=local_h36m.get_length(VALID_MODE), \n",
    "                       shuffle=True)\n",
    "\n",
    "log.printcn(log.OKBLUE, 'Preloading Human3.6M validation samples...')\n",
    "\n",
    "[x_val], [pw_val, puvd_val, afmat_val, scam_val] = h36m_val[0]"
   ]
  },
  {
   "cell_type": "code",
   "execution_count": null,
   "metadata": {},
   "outputs": [],
   "source": [
    "dataset = {\n",
    "    'x_val': x_val,\n",
    "    'pw_val': pw_val,\n",
    "    'puvd_val': puvd_val,\n",
    "    'afmat_val': afmat_val,\n",
    "    'scam_val': scam_val\n",
    "}"
   ]
  },
  {
   "cell_type": "code",
   "execution_count": null,
   "metadata": {},
   "outputs": [],
   "source": []
  },
  {
   "cell_type": "markdown",
   "metadata": {},
   "source": [
    "## eval func"
   ]
  },
  {
   "cell_type": "code",
   "execution_count": null,
   "metadata": {},
   "outputs": [],
   "source": [
    "def eval_human36m_sc_error(model,\n",
    "                           x,\n",
    "                           pose_w,\n",
    "                           afmat,\n",
    "                           rootz,\n",
    "                           scam,\n",
    "                           resol_z=2000.,\n",
    "                           batch_size=8,\n",
    "                           map_to_pa17j=None,\n",
    "                           logdir=None,\n",
    "                           verbose=True):\n",
    "\n",
    "    assert len(x) == len(pose_w) == len(afmat) == len(scam)\n",
    "\n",
    "    num_blocks = len(model.outputs)\n",
    "\n",
    "    y_true_w = pose_w.copy()\n",
    "    if map_to_pa17j is not None:\n",
    "        y_true_w = y_true_w[:, map_to_pa17j, :]\n",
    "    y_pred_w = np.zeros((num_blocks,) + y_true_w.shape)\n",
    "    if rootz.ndim == 1:\n",
    "        rootz = np.expand_dims(rootz, axis=-1)\n",
    "\n",
    "    pred = model.predict(x, batch_size=batch_size, verbose=1)\n",
    "\n",
    "    # Move the root joints from GT poses to origin\n",
    "    y_true_w -= y_true_w[:, 0:1, :]\n",
    "\n",
    "    if verbose:\n",
    "        log.printc(log.WARNING, 'Avg. mm. error:')\n",
    "\n",
    "    lower_err = np.inf\n",
    "    scores = []\n",
    "\n",
    "    for b in range(num_blocks):\n",
    "\n",
    "        if num_blocks > 1:\n",
    "            y_pred = pred[b]\n",
    "        else:\n",
    "            y_pred = pred\n",
    "\n",
    "        # ??\n",
    "        y_pred = y_pred[:, :, 0:3]\n",
    "\n",
    "        # project normalized coordiates to the image plane\n",
    "        y_pred[:, :, 0:2] = transform.transform_pose_sequence(afmat.copy(), y_pred[:, :, 0:2], inverse=True)\n",
    "\n",
    "        # Recover the absolute Z\n",
    "        y_pred[:, :, 2] = (resol_z * (y_pred[:, :, 2] - 0.5)) + rootz\n",
    "        y_pred_uvd = y_pred[:, :, 0:3]\n",
    "\n",
    "        # camera inverse projection\n",
    "        for j in range(len(y_pred_uvd)):\n",
    "            cam = camera.camera_deserialize(scam[j])\n",
    "            y_pred_w[b, j, :, :] = cam.inverse_project(y_pred_uvd[j])\n",
    "\n",
    "        # Move the root joint from predicted poses to the origin\n",
    "        y_pred_w[b, :, :, :] -= y_pred_w[b, :, 0:1, :]\n",
    "\n",
    "        err_w = measures.mean_distance_error(y_true_w[:, 0:, :], y_pred_w[b, :, 0:, :])\n",
    "        scores.append(err_w)\n",
    "        if verbose:\n",
    "            log.printc(log.WARNING, ' %.1f' % err_w)\n",
    "\n",
    "        # Keep the best prediction\n",
    "        if err_w < lower_err:\n",
    "            lower_err = err_w\n",
    "\n",
    "    if verbose:\n",
    "        log.printcn('', '')\n",
    "\n",
    "    if logdir is not None:\n",
    "        np.save('%s/y_pred_w.npy' % logdir, y_pred_w)\n",
    "        np.save('%s/y_true_w.npy' % logdir, y_true_w)\n",
    "\n",
    "    log.printcn(log.WARNING, 'Final averaged error (mm): %.3f' % lower_err)\n",
    "\n",
    "    return scores"
   ]
  },
  {
   "cell_type": "markdown",
   "metadata": {},
   "source": [
    "# model folder"
   ]
  },
  {
   "cell_type": "code",
   "execution_count": null,
   "metadata": {},
   "outputs": [],
   "source": [
    "# single h5 eval\n",
    "weights_path = '/home/caleml/pe_experiments/test_from_gpuserver2/weights_036.h5'\n",
    "eval_model = MultiBranchModel(dim=3, n_joints=17, nb_pose_blocks=1)\n",
    "eval_model.load_weights(weights_path, pose_only=True)\n",
    "scores = eval_human36m_sc_error(eval_model.model, \n",
    "                                x_val, \n",
    "                                pw_val, \n",
    "                                afmat_val,\n",
    "                                puvd_val[:,0,2], \n",
    "                                scam_val,  \n",
    "                                batch_size=24)\n",
    "\n",
    "pprint(scores)"
   ]
  },
  {
   "cell_type": "code",
   "execution_count": null,
   "metadata": {},
   "outputs": [],
   "source": [
    "# whole folder eval\n",
    "def eval_folder(exp_folder, dataset, pose_only=False):\n",
    "    config_path = os.path.join(exp_folder, 'config.yaml')\n",
    "    \n",
    "    # config\n",
    "    with open(config_path, 'r') as f_conf:\n",
    "        config = yaml.load(f_conf)\n",
    "        \n",
    "    # model\n",
    "    eval_model = MultiBranchModel(dim=3, n_joints=17, nb_pose_blocks=int(config['pose_blocks']), verbose=False)\n",
    "        \n",
    "    # find weights paths\n",
    "    weights = list()\n",
    "    for filename in os.listdir(exp_folder):\n",
    "        if filename.endswith(\".h5\") and filename.startswith(\"weights_\"):\n",
    "            weights.append(os.path.join(exp_folder, filename))\n",
    "            \n",
    "    weights.sort()\n",
    "    print(\"Found %s weights paths\" % len(weights))\n",
    "    \n",
    "    # actual eval\n",
    "    all_scores = list()\n",
    "    for i, weights_path in enumerate(weights[39:]):\n",
    "        time1 = time.time()\n",
    "        print(\"Eval of weights_path %s\" % weights_path)\n",
    "        eval_model.load_weights(weights_path, pose_only=pose_only)\n",
    "        \n",
    "        scores = eval_human36m_sc_error(eval_model.model, \n",
    "                                        dataset['x_val'], \n",
    "                                        dataset['pw_val'], \n",
    "                                        dataset['afmat_val'],\n",
    "                                        dataset['puvd_val'][:,0,2], \n",
    "                                        dataset['scam_val'],  \n",
    "                                        batch_size=24)\n",
    "        \n",
    "        time2 = time.time()\n",
    "        print(\"Scores for epoch %s: %s (in %s s)\" % (i + 40, str(scores), time2 - time1))\n",
    "        all_scores.append(max(scores))\n",
    "        \n",
    "    return all_scores\n",
    "        "
   ]
  },
  {
   "cell_type": "code",
   "execution_count": null,
   "metadata": {
    "scrolled": true
   },
   "outputs": [],
   "source": [
    "exp_baseline_path = '/home/caleml/pe_experiments/exp_baseline_1b_bs32_h36m_201903221052/'\n",
    "all_scores_baseline = eval_folder(exp_baseline_path, dataset, pose_only=True)"
   ]
  },
  {
   "cell_type": "code",
   "execution_count": null,
   "metadata": {},
   "outputs": [],
   "source": [
    "print(all_scores_baseline)\n",
    "history_baseline = [91.752, 82.462, 79.423, 88.836, 84.020, 86.886, 86.680, 79.484, 78.599, 84.097, 76.193, 77.141, 78.207, 81.432, 78.589, 77.009, 77.462, 76.312, 78.666]\n",
    "all_scores_baseline = history_baseline + all_scores_baseline[1:]\n",
    "assert len(all_scores_baseline) == 60"
   ]
  },
  {
   "cell_type": "code",
   "execution_count": null,
   "metadata": {},
   "outputs": [],
   "source": [
    "exp_hybrid_path = '/home/caleml/pe_experiments/exp_20190322_1942_hybrid_h36m__1b_bs16/'\n",
    "all_scores_hybrid = eval_folder(exp_hybrid_path, dataset, pose_only=False)"
   ]
  },
  {
   "cell_type": "markdown",
   "metadata": {},
   "source": [
    "# Viz"
   ]
  },
  {
   "cell_type": "code",
   "execution_count": null,
   "metadata": {},
   "outputs": [],
   "source": [
    "# bare exps\n",
    "exps = {\n",
    "    'hybrid': '/home/caleml/pe_experiments/exp_20190404_1450_hybrid_h36m__2b_bs16',\n",
    "    'baseline': '/home/caleml/pe_experiments/exp_20190404_1450_baseline_h36m__2b_bs32'\n",
    "}"
   ]
  },
  {
   "cell_type": "code",
   "execution_count": null,
   "metadata": {},
   "outputs": [],
   "source": [
    "# exps with LRS (batch 1)\n",
    "exps = {\n",
    "    'hybrid_rmsp': '/home/caleml/pe_experiments/exp_20190410_0340_hybrid_None_2b_bs16',\n",
    "    'baseline_rmsp': '/home/caleml/pe_experiments/exp_20190410_1022_baseline_None_2b_bs32',\n",
    "    'hybrid_adam': '/home/caleml/pe_experiments/exp_20190414_2350_hybrid_None_2b_bs16'\n",
    "}"
   ]
  },
  {
   "cell_type": "code",
   "execution_count": 6,
   "metadata": {},
   "outputs": [],
   "source": [
    "# batch 2\n",
    "exps = {\n",
    "    'hreduced_2b_128': '/home/caleml/pe_experiments/external/exp_20190429_1555_hybrid_reduced_None_2b_bs16',\n",
    "    'hreduced_2b_256': '/home/caleml/pe_experiments/exp_20190429_1657_hybrid_reduced_None_2b_bs16',\n",
    "    'baseline_3b': '/home/caleml/pe_experiments/exp_20190429_1625_baseline_None_3b_bs16'\n",
    "}"
   ]
  },
  {
   "cell_type": "code",
   "execution_count": 23,
   "metadata": {},
   "outputs": [],
   "source": [
    "# comparison baselines\n",
    "exps = {\n",
    "    # 'baseline_2b': '/home/caleml/pe_experiments/exp_20190404_1450_baseline_h36m__2b_bs32',\n",
    "    'baseline_3b': '/home/caleml/pe_experiments/exp_20190429_1625_baseline_None_3b_bs16',\n",
    "    'baseline_2b': '/home/caleml/pe_experiments/exp_20190410_1022_baseline_None_2b_bs32'\n",
    "}"
   ]
  },
  {
   "cell_type": "code",
   "execution_count": 26,
   "metadata": {},
   "outputs": [],
   "source": [
    "# comparison reduced\n",
    "exps = {\n",
    "    'hreduced_2b_128': '/home/caleml/pe_experiments/external/exp_20190429_1555_hybrid_reduced_None_2b_bs16',\n",
    "    'hreduced_2b_256': '/home/caleml/pe_experiments/exp_20190429_1657_hybrid_reduced_None_2b_bs16',\n",
    "    # 'baseline_2b': '/home/caleml/pe_experiments/exp_20190404_1450_baseline_h36m__2b_bs32',\n",
    "    'baseline_2b': '/home/caleml/pe_experiments/exp_20190410_1022_baseline_None_2b_bs32',\n",
    "    'hybrid': '/home/caleml/pe_experiments/exp_20190410_0340_hybrid_None_2b_bs16'\n",
    "}"
   ]
  },
  {
   "cell_type": "code",
   "execution_count": 8,
   "metadata": {},
   "outputs": [],
   "source": [
    "# stopped gradient\n",
    "exps = {\n",
    "    'hybrid_stopped': '/home/caleml/pe_experiments/exp_20190506_1938_hybrid_stop_None_2b_bs32',\n",
    "    'baseline_2b': '/home/caleml/pe_experiments/exp_20190410_1022_baseline_None_2b_bs32',\n",
    "    'hreduced_2b_128': '/home/caleml/pe_experiments/external/exp_20190429_1555_hybrid_reduced_None_2b_bs16'\n",
    "}"
   ]
  },
  {
   "cell_type": "code",
   "execution_count": 9,
   "metadata": {},
   "outputs": [
    {
     "name": "stdout",
     "output_type": "stream",
     "text": [
      "[81.99058272760244, 82.91124861769595, 82.86589225230509, 85.77580239519271, 85.15648680473265, 75.31413029969468, 79.75547648478606, 74.2639352401128, 82.02551868809584]\n",
      "[96.43789245864693, 84.0190368704235, 75.59239436328167, 74.84727356851843, 79.55960413669303, 75.81565723951282, 74.7761037779847, 80.65841711124101, 73.97207860367911, 72.71523214642755, 72.29930397683064, 74.00047485747601, 77.28131118668158, 74.7873552332954, 77.61754324561369, 73.12392230575828, 72.4812706210853, 73.09537271710528, 72.48646203455704, 74.29821482606513, 73.02942927496963, 71.9797902515881, 77.0649952945274, 74.18829870581844, 77.27742694922546, 72.98136550752291, 73.08902431338244, 73.21436522082459, 71.65370475045886, 69.24806601804316, 73.13595383087225, 71.61327359835138, 72.84463811964235, 72.96285617904695, 70.82510405274164, 71.01760582532823, 68.88405152191726, 72.37478155737092, 70.86192368520892, 69.0733008338026, 70.12298419143205, 70.38637102311888, 72.20271281100409, 71.88324747128011, 70.96643491919144, 72.98301396892379, 72.74627626177497, 72.35872673799915, 68.5727190447722, 72.14860439423194, 72.91808408165723, 72.9196238985701, 69.77186863726706, 71.12047544397461, 72.39082403769277, 71.02362274323707, 72.24795458432101, 71.54437252525985, 71.71350678981543, 69.6778174105586]\n",
      "[86.36421394934709, 78.49921681790572, 75.10554740141029, 73.32230760096866, 72.8012966805939, 72.87159225565992, 69.68850360937128, 70.31272078251344, 67.56113543149792, 75.07888298949999, 73.09334124427082, 69.69876405005563, 68.30035048741394, 72.341641659722, 69.1782333698318, 66.9697584131954, 71.90892930220518, 68.38655454220509, 68.98444672085395, 66.26979795239004, 67.48174995980555, 67.7771341009206, 66.79042160798132, 68.80539432967113, 67.0955613482119, 71.05400663062203, 66.60657728662483, 68.39858516248385, 66.75839475247206, 65.51702444920285, 67.02968220784626, 67.14911463063407, 67.36325678725447, 67.90364611823438, 67.01021867355166, 67.74832027053047, 67.81285774959584, 68.15908775127028, 69.05317648721588, 67.85644740619077, 66.95237578051939, 68.089605833358, 67.19451708002381, 67.17476529111221, 67.89180376933356, 68.07504003264872, 69.56025523292757, 66.86603566253996, 67.87053904481795, 68.10123492669541, 68.20810741576621, 68.98231286755622, 68.01942126219026, 67.76140317393487, 68.17644786010608, 66.67908334022289, 67.05052742757998, 66.88793852795949, 66.79752915473892, 65.98126600923645]\n"
     ]
    }
   ],
   "source": [
    "results = dict()\n",
    "best_data = dict()\n",
    "x_range = 0\n",
    "\n",
    "for exp_name, exp_path in exps.items():\n",
    "    \n",
    "    scores = list()\n",
    "    best_score = np.inf\n",
    "    best_epoch = None\n",
    "    \n",
    "    with open(os.path.join(exp_path, 'h36m_val.json'), 'r') as f_val:\n",
    "        val_data = json.loads(f_val.read())\n",
    "        \n",
    "        for (epoch, epoch_scores) in sorted(val_data.items(), key=lambda x: int(x[0])):\n",
    "            best = min(epoch_scores)\n",
    "            scores.append(best)\n",
    "            \n",
    "            if best < best_score:\n",
    "                best_score = best\n",
    "                best_epoch = epoch\n",
    "            \n",
    "    print(scores)\n",
    "        \n",
    "    if len(scores) > x_range:\n",
    "        x_range = len(scores)\n",
    "        \n",
    "    results[exp_name] = scores\n",
    "    best_data[exp_name] = [best_epoch, best_score]\n",
    "    "
   ]
  },
  {
   "cell_type": "code",
   "execution_count": 10,
   "metadata": {},
   "outputs": [
    {
     "data": {
      "text/plain": [
       "{'baseline_2b': ['30', 65.51702444920285],\n",
       " 'hreduced_2b_128': ['49', 68.5727190447722],\n",
       " 'hybrid_stopped': ['8', 74.2639352401128]}"
      ]
     },
     "execution_count": 10,
     "metadata": {},
     "output_type": "execute_result"
    }
   ],
   "source": [
    "best_data"
   ]
  },
  {
   "cell_type": "code",
   "execution_count": 12,
   "metadata": {},
   "outputs": [
    {
     "data": {
      "image/png": "[encoded data removed]",
      "text/plain": [
       "<Figure size 432x288 with 1 Axes>"
      ]
     },
     "metadata": {
      "needs_background": "light"
     },
     "output_type": "display_data"
    }
   ],
   "source": [
    "import matplotlib.pyplot as plt\n",
    "\n",
    "x_range = 60\n",
    "x = list(range(x_range))\n",
    "\n",
    "for exp_name, exp_scores in results.items():\n",
    "    if len(exp_scores) < x_range:\n",
    "        exp_scores = exp_scores + [None] * (x_range - len(exp_scores))\n",
    "    plt.plot(x, exp_scores, label=exp_name)\n",
    "\n",
    "# plt.plot(x, all_scores_baseline, label='1 block baseline')\n",
    "    \n",
    "plt.title('Baseline val')\n",
    "plt.xlabel('epoch')\n",
    "plt.ylabel('MPJPE')\n",
    "plt.legend()\n",
    "plt.show()\n",
    "\n",
    "# plt.savefig('/home/caleml/pe_experiments/exp_baseline_1b_bs32_h36m_201903221052/eval.png')"
   ]
  },
  {
   "cell_type": "code",
   "execution_count": null,
   "metadata": {},
   "outputs": [],
   "source": [
    "all_scores_baseline = [91.75194501441577, 82.46205898898975, 79.4226132617545, 88.8355976647399, 84.02042960060331, 86.88580619918093, 86.67989807960359, 79.48412115594127, 78.59867146077222, 84.09675808749151, 76.1932848291697, 77.14141621003114, 78.2065916383256, 81.43181095386677, 78.58923745192591, 77.008543664543, 77.46245838987596, 76.31208539465088, 78.66618899639796, 75.53613154051648, 83.53373459959678, 76.01499659875537, 74.4797050967049, 79.84342586353483, 77.25320791938644, 76.69853350783292, 76.45083687520106, 77.09345226614492, 75.78290824659078, 77.9041891354044, 78.09753993393933, 76.60042799938726, 77.5805151579404, 78.8091096371011, 74.80468494705836, 74.2166559806093, 77.63991530864764, 77.89325147099139, 78.38807773666701, 80.47055450518361, 73.81642579401903 , 75.0416006683364 , 74.48196930787806 , 75.15854590724823 , 73.66802279838019 , 75.19603076463348 , 74.01143213366338 , 75.08591589680957 , 75.55668131643323 , 77.11394826271881 , 74.44167918712098 , 75.63973677387979 , 76.3378921014415 , 74.73289168541717 , 73.95828566807859 , 75.55537095370421 , 75.78301989366678 , 74.91063809506264 , 74.59803512567959 , 74.75948044066446]"
   ]
  },
  {
   "cell_type": "code",
   "execution_count": null,
   "metadata": {},
   "outputs": [],
   "source": [
    "from tensorflow.keras.applications import ResNet50"
   ]
  },
  {
   "cell_type": "code",
   "execution_count": null,
   "metadata": {},
   "outputs": [],
   "source": [
    "from tensorflow.keras.applications.contrib import resnet"
   ]
  },
  {
   "cell_type": "code",
   "execution_count": null,
   "metadata": {},
   "outputs": [],
   "source": [
    "from keras.contrib.applications import resnet"
   ]
  },
  {
   "cell_type": "code",
   "execution_count": null,
   "metadata": {},
   "outputs": [],
   "source": [
    "from keras_applications.imagenet_utils import _obtain_input_shape"
   ]
  },
  {
   "cell_type": "markdown",
   "metadata": {},
   "source": [
    "## Time checks"
   ]
  },
  {
   "cell_type": "code",
   "execution_count": 14,
   "metadata": {},
   "outputs": [
    {
     "name": "stdout",
     "output_type": "stream",
     "text": [
      "{'baseline_2b': {'weights_001.h5': 1554389620.3786151,\n",
      "                 'weights_002.h5': 1554396667.8465571,\n",
      "                 'weights_003.h5': 1554403682.4355404,\n",
      "                 'weights_004.h5': 1554410651.8207784,\n",
      "                 'weights_005.h5': 1554417595.29528,\n",
      "                 'weights_006.h5': 1554424563.2311895,\n",
      "                 'weights_007.h5': 1554431529.1552982,\n",
      "                 'weights_008.h5': 1554438487.6020277,\n",
      "                 'weights_009.h5': 1554445427.3519244,\n",
      "                 'weights_010.h5': 1554452403.2655568,\n",
      "                 'weights_011.h5': 1554459363.5906749,\n",
      "                 'weights_012.h5': 1554466342.1866457,\n",
      "                 'weights_013.h5': 1554473305.8735006,\n",
      "                 'weights_014.h5': 1554480152.2814693,\n",
      "                 'weights_015.h5': 1554486850.3966653,\n",
      "                 'weights_016.h5': 1554493524.9040453,\n",
      "                 'weights_017.h5': 1554500160.2756915,\n",
      "                 'weights_018.h5': 1554507105.9951255,\n",
      "                 'weights_019.h5': 1554514066.7577858,\n",
      "                 'weights_020.h5': 1554521010.7399101,\n",
      "                 'weights_021.h5': 1554527953.7421,\n",
      "                 'weights_022.h5': 1554534908.4352012,\n",
      "                 'weights_023.h5': 1554541872.8524756,\n",
      "                 'weights_024.h5': 1554548833.150636,\n",
      "                 'weights_025.h5': 1554555750.4424174,\n",
      "                 'weights_026.h5': 1554562716.4113693,\n",
      "                 'weights_027.h5': 1554569686.2882206,\n",
      "                 'weights_028.h5': 1554576691.2733214,\n",
      "                 'weights_029.h5': 1554583683.7662878,\n",
      "                 'weights_030.h5': 1554590561.688936,\n",
      "                 'weights_031.h5': 1554600660.4705093,\n",
      "                 'weights_032.h5': 1554612567.6924741,\n",
      "                 'weights_033.h5': 1554624487.902685,\n",
      "                 'weights_034.h5': 1554636422.4418414,\n",
      "                 'weights_035.h5': 1554648311.5598376,\n",
      "                 'weights_036.h5': 1554659756.0249763,\n",
      "                 'weights_037.h5': 1554671035.2409165,\n",
      "                 'weights_038.h5': 1554682476.2242029,\n",
      "                 'weights_039.h5': 1554693210.6623585,\n",
      "                 'weights_040.h5': 1554703923.6386416,\n",
      "                 'weights_041.h5': 1554714648.6478457,\n",
      "                 'weights_042.h5': 1554725521.708019},\n",
      " 'baseline_3b': {'weights_001.h5': 1556557192.5803113,\n",
      "                 'weights_002.h5': 1556565147.336869,\n",
      "                 'weights_003.h5': 1556572098.0892973,\n",
      "                 'weights_004.h5': 1556578743.0891485,\n",
      "                 'weights_005.h5': 1556585402.513478,\n",
      "                 'weights_006.h5': 1556592082.5940533,\n",
      "                 'weights_007.h5': 1556598759.794714,\n",
      "                 'weights_008.h5': 1556605453.5157487,\n",
      "                 'weights_009.h5': 1556612328.0259943,\n",
      "                 'weights_010.h5': 1556620364.2417743,\n",
      "                 'weights_011.h5': 1556629122.842893,\n",
      "                 'weights_012.h5': 1556638813.8164673,\n",
      "                 'weights_013.h5': 1556647937.4132795,\n",
      "                 'weights_014.h5': 1556655551.3762732,\n",
      "                 'weights_015.h5': 1556663076.646027,\n",
      "                 'weights_016.h5': 1556670597.6231868,\n",
      "                 'weights_017.h5': 1556678110.6256974,\n",
      "                 'weights_018.h5': 1556685618.599718,\n",
      "                 'weights_019.h5': 1556693130.4130926,\n",
      "                 'weights_020.h5': 1556700616.3820333,\n",
      "                 'weights_021.h5': 1556708083.0987682,\n",
      "                 'weights_022.h5': 1556715549.035924,\n",
      "                 'weights_023.h5': 1556723033.8574445,\n",
      "                 'weights_024.h5': 1556730699.9779303,\n",
      "                 'weights_025.h5': 1556738417.6147537,\n",
      "                 'weights_026.h5': 1556745958.8254886,\n",
      "                 'weights_027.h5': 1556753458.5149345,\n",
      "                 'weights_028.h5': 1556760858.5025787,\n",
      "                 'weights_029.h5': 1556767556.419944,\n",
      "                 'weights_030.h5': 1556774216.707398,\n",
      "                 'weights_031.h5': 1556780891.7408278,\n",
      "                 'weights_032.h5': 1556787562.601759,\n",
      "                 'weights_033.h5': 1556794259.9467669,\n",
      "                 'weights_034.h5': 1556801010.6367707,\n",
      "                 'weights_035.h5': 1556807810.4206145,\n",
      "                 'weights_036.h5': 1556814653.341193,\n",
      "                 'weights_037.h5': 1556821140.219352,\n",
      "                 'weights_038.h5': 1556826883.7445872,\n",
      "                 'weights_039.h5': 1556832533.5363197,\n",
      "                 'weights_040.h5': 1556838228.7589822,\n",
      "                 'weights_041.h5': 1556843950.21031,\n",
      "                 'weights_042.h5': 1556849678.9050264,\n",
      "                 'weights_043.h5': 1556855415.6671076,\n",
      "                 'weights_044.h5': 1556861153.0531173,\n",
      "                 'weights_045.h5': 1556866907.12682,\n",
      "                 'weights_046.h5': 1556872654.7120101,\n",
      "                 'weights_047.h5': 1556878650.217474,\n",
      "                 'weights_048.h5': 1556884768.6450677,\n",
      "                 'weights_049.h5': 1556890876.0612319,\n",
      "                 'weights_050.h5': 1556897005.0468564,\n",
      "                 'weights_051.h5': 1556903173.8036828,\n",
      "                 'weights_052.h5': 1556909419.5114534,\n",
      "                 'weights_053.h5': 1556915671.1722744,\n",
      "                 'weights_054.h5': 1556921880.640302,\n",
      "                 'weights_055.h5': 1556928061.2433827,\n",
      "                 'weights_056.h5': 1556934106.7792778,\n",
      "                 'weights_057.h5': 1556940024.4940302,\n",
      "                 'weights_058.h5': 1556945914.2827098,\n",
      "                 'weights_059.h5': 1556951720.3826253,\n",
      "                 'weights_060.h5': 1556957361.6419015}}\n",
      "{'baseline_2b': [7047.467941999435,\n",
      "                 7014.588983297348,\n",
      "                 6969.385237932205,\n",
      "                 6943.474501609802,\n",
      "                 6967.935909509659,\n",
      "                 6965.924108743668,\n",
      "                 6958.446729421616,\n",
      "                 6939.749896764755,\n",
      "                 6975.913632392883,\n",
      "                 6960.32511806488,\n",
      "                 6978.595970869064,\n",
      "                 6963.686854839325,\n",
      "                 6846.407968759537,\n",
      "                 6698.115195989609,\n",
      "                 6674.5073800086975,\n",
      "                 6635.371646165848,\n",
      "                 6945.719434022903,\n",
      "                 6960.762660264969,\n",
      "                 6943.982124328613,\n",
      "                 6943.002189874649,\n",
      "                 6954.693101167679,\n",
      "                 6964.417274475098,\n",
      "                 6960.29816031456,\n",
      "                 6917.291781425476,\n",
      "                 6965.9689519405365,\n",
      "                 6969.876851320267,\n",
      "                 7004.985100746155,\n",
      "                 6992.492966413498,\n",
      "                 6877.922648191452,\n",
      "                 10098.781573295593,\n",
      "                 11907.22196483612,\n",
      "                 11920.21021080017,\n",
      "                 11934.53915643692,\n",
      "                 11889.11799621582,\n",
      "                 11444.465138673782,\n",
      "                 11279.215940237045,\n",
      "                 11440.983286380768,\n",
      "                 10734.438155651093,\n",
      "                 10712.976283073425,\n",
      "                 10725.009204149246,\n",
      "                 10873.060173273087],\n",
      " 'baseline_3b': [7954.756557703018,\n",
      "                 6950.752428293228,\n",
      "                 6644.999851226807,\n",
      "                 6659.424329519272,\n",
      "                 6680.080575227737,\n",
      "                 6677.200660705566,\n",
      "                 6693.7210347652435,\n",
      "                 6874.5102455616,\n",
      "                 8036.21578001976,\n",
      "                 8758.601118564606,\n",
      "                 9690.973574399948,\n",
      "                 9123.59681224823,\n",
      "                 7613.962993621826,\n",
      "                 7525.269753932953,\n",
      "                 7520.977159738541,\n",
      "                 7513.002510547638,\n",
      "                 7507.974020719528,\n",
      "                 7511.813374519348,\n",
      "                 7485.968940734863,\n",
      "                 7466.716734886169,\n",
      "                 7465.937155723572,\n",
      "                 7484.82152056694,\n",
      "                 7666.120485782623,\n",
      "                 7717.636823415756,\n",
      "                 7541.210734844208,\n",
      "                 7499.689445972443,\n",
      "                 7399.987644195557,\n",
      "                 6697.917365312576,\n",
      "                 6660.287453889847,\n",
      "                 6675.033429861069,\n",
      "                 6670.860931158066,\n",
      "                 6697.345007896423,\n",
      "                 6750.690003871918,\n",
      "                 6799.783843755722,\n",
      "                 6842.920578479767,\n",
      "                 6486.878159046173,\n",
      "                 5743.525235176086,\n",
      "                 5649.791732549667,\n",
      "                 5695.222662448883,\n",
      "                 5721.451327800751,\n",
      "                 5728.694716453552,\n",
      "                 5736.76208114624,\n",
      "                 5737.386009693146,\n",
      "                 5754.073702812195,\n",
      "                 5747.5851900577545,\n",
      "                 5995.505463838577,\n",
      "                 6118.427593708038,\n",
      "                 6107.416164159775,\n",
      "                 6128.985624551773,\n",
      "                 6168.756826400757,\n",
      "                 6245.707770586014,\n",
      "                 6251.6608209609985,\n",
      "                 6209.468027591705,\n",
      "                 6180.603080749512,\n",
      "                 6045.535895109177,\n",
      "                 5917.714752435684,\n",
      "                 5889.788679599762,\n",
      "                 5806.099915504456,\n",
      "                 5641.259276151657]}\n",
      "mean epoch time for baseline_3b: 6782.526467630419\n",
      "mean epoch time for baseline_2b: 8192.71535131408\n"
     ]
    }
   ],
   "source": [
    "exps = {\n",
    "    'baseline_2b': '/home/caleml/pe_experiments/exp_20190404_1450_baseline_h36m__2b_bs32',\n",
    "    'baseline_3b': '/home/caleml/pe_experiments/exp_20190429_1625_baseline_None_3b_bs16'\n",
    "}\n",
    "\n",
    "times = defaultdict(dict)\n",
    "\n",
    "# 1. store times\n",
    "for name, path in exps.items():\n",
    "    \n",
    "    for filename in os.listdir(path):\n",
    "        if filename.startswith(\"weights_\"):\n",
    "            times[name][filename] = os.path.getctime(os.path.join(path, filename))\n",
    "            \n",
    "pprint(times)\n",
    "# 2. compute differences\n",
    "\n",
    "diffs = defaultdict(list)\n",
    "for name, data in times.items():\n",
    "    prev = None\n",
    "    for key in sorted(data.keys()):\n",
    "        if prev:\n",
    "            diffs[name].append(data[key] - prev)\n",
    "        prev = data[key]\n",
    "        \n",
    "pprint(diffs)\n",
    "\n",
    "for name, data in diffs.items():\n",
    "    print('mean epoch time for %s: %s' % (name, sum(data) / len(data)))"
   ]
  },
  {
   "cell_type": "code",
   "execution_count": null,
   "metadata": {},
   "outputs": [],
   "source": [
    "os.path.join('toto', 'tutu')"
   ]
  },
  {
   "cell_type": "code",
   "execution_count": null,
   "metadata": {},
   "outputs": [],
   "source": [
    "import scipy.io as sio"
   ]
  },
  {
   "cell_type": "code",
   "execution_count": null,
   "metadata": {},
   "outputs": [],
   "source": []
  }
 ],
 "metadata": {
  "kernelspec": {
   "display_name": "Python 3",
   "language": "python",
   "name": "python3"
  },
  "language_info": {
   "codemirror_mode": {
    "name": "ipython",
    "version": 3
   },
   "file_extension": ".py",
   "mimetype": "text/x-python",
   "name": "python",
   "nbconvert_exporter": "python",
   "pygments_lexer": "ipython3",
   "version": "3.4.6"
  }
 },
 "nbformat": 4,
 "nbformat_minor": 2
}

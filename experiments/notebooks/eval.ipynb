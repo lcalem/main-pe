{
 "cells": [
  {
   "cell_type": "code",
   "execution_count": 4,
   "metadata": {},
   "outputs": [],
   "source": [
    "%load_ext autoreload\n",
    "%autoreload 2"
   ]
  },
  {
   "cell_type": "code",
   "execution_count": 5,
   "metadata": {},
   "outputs": [],
   "source": [
    "import datetime\n",
    "import json\n",
    "import os\n",
    "import sys\n",
    "import time\n",
    "import yaml\n",
    "\n",
    "from pprint import pprint"
   ]
  },
  {
   "cell_type": "code",
   "execution_count": 6,
   "metadata": {},
   "outputs": [],
   "source": [
    "sys.path.append(\"/home/caleml/main-pe/\")"
   ]
  },
  {
   "cell_type": "code",
   "execution_count": 7,
   "metadata": {},
   "outputs": [],
   "source": [
    "import numpy as np\n",
    "\n",
    "from data.datasets.h36m import Human36M\n",
    "from data.loader import BatchLoader\n",
    "from data.utils import transform, camera\n",
    "from data.utils.data_utils import TEST_MODE, TRAIN_MODE, VALID_MODE\n",
    "\n",
    "from model import config, measures\n",
    "from model.networks.multi_branch_model import MultiBranchModel\n",
    "from model.utils import pose_format, log"
   ]
  },
  {
   "cell_type": "markdown",
   "metadata": {},
   "source": [
    "## dataset"
   ]
  },
  {
   "cell_type": "code",
   "execution_count": null,
   "metadata": {},
   "outputs": [],
   "source": [
    "# local loading\n",
    "local_h36m_path = '/home/caleml/datasets/h36m'\n",
    "local_h36m = Human36M(local_h36m_path, dataconf=config.human36m_dataconf, poselayout=pose_format.pa17j3d, topology='frames') "
   ]
  },
  {
   "cell_type": "code",
   "execution_count": null,
   "metadata": {},
   "outputs": [],
   "source": [
    "h36m_val = BatchLoader(local_h36m, \n",
    "                       ['frame'],\n",
    "                       ['pose_w', 'pose_uvd', 'afmat', 'camera'], \n",
    "                       VALID_MODE,\n",
    "                       batch_size=local_h36m.get_length(VALID_MODE), \n",
    "                       shuffle=True)\n",
    "\n",
    "log.printcn(log.OKBLUE, 'Preloading Human3.6M validation samples...')\n",
    "\n",
    "[x_val], [pw_val, puvd_val, afmat_val, scam_val] = h36m_val[0]"
   ]
  },
  {
   "cell_type": "code",
   "execution_count": null,
   "metadata": {},
   "outputs": [],
   "source": [
    "dataset = {\n",
    "    'x_val': x_val,\n",
    "    'pw_val': pw_val,\n",
    "    'puvd_val': puvd_val,\n",
    "    'afmat_val': afmat_val,\n",
    "    'scam_val': scam_val\n",
    "}"
   ]
  },
  {
   "cell_type": "code",
   "execution_count": null,
   "metadata": {},
   "outputs": [],
   "source": []
  },
  {
   "cell_type": "markdown",
   "metadata": {},
   "source": [
    "## eval func"
   ]
  },
  {
   "cell_type": "code",
   "execution_count": null,
   "metadata": {},
   "outputs": [],
   "source": [
    "def eval_human36m_sc_error(model,\n",
    "                           x,\n",
    "                           pose_w,\n",
    "                           afmat,\n",
    "                           rootz,\n",
    "                           scam,\n",
    "                           resol_z=2000.,\n",
    "                           batch_size=8,\n",
    "                           map_to_pa17j=None,\n",
    "                           logdir=None,\n",
    "                           verbose=True):\n",
    "\n",
    "    assert len(x) == len(pose_w) == len(afmat) == len(scam)\n",
    "\n",
    "    num_blocks = len(model.outputs)\n",
    "\n",
    "    y_true_w = pose_w.copy()\n",
    "    if map_to_pa17j is not None:\n",
    "        y_true_w = y_true_w[:, map_to_pa17j, :]\n",
    "    y_pred_w = np.zeros((num_blocks,) + y_true_w.shape)\n",
    "    if rootz.ndim == 1:\n",
    "        rootz = np.expand_dims(rootz, axis=-1)\n",
    "\n",
    "    pred = model.predict(x, batch_size=batch_size, verbose=1)\n",
    "\n",
    "    # Move the root joints from GT poses to origin\n",
    "    y_true_w -= y_true_w[:, 0:1, :]\n",
    "\n",
    "    if verbose:\n",
    "        log.printc(log.WARNING, 'Avg. mm. error:')\n",
    "\n",
    "    lower_err = np.inf\n",
    "    scores = []\n",
    "\n",
    "    for b in range(num_blocks):\n",
    "\n",
    "        if num_blocks > 1:\n",
    "            y_pred = pred[b]\n",
    "        else:\n",
    "            y_pred = pred\n",
    "\n",
    "        # ??\n",
    "        y_pred = y_pred[:, :, 0:3]\n",
    "\n",
    "        # project normalized coordiates to the image plane\n",
    "        y_pred[:, :, 0:2] = transform.transform_pose_sequence(afmat.copy(), y_pred[:, :, 0:2], inverse=True)\n",
    "\n",
    "        # Recover the absolute Z\n",
    "        y_pred[:, :, 2] = (resol_z * (y_pred[:, :, 2] - 0.5)) + rootz\n",
    "        y_pred_uvd = y_pred[:, :, 0:3]\n",
    "\n",
    "        # camera inverse projection\n",
    "        for j in range(len(y_pred_uvd)):\n",
    "            cam = camera.camera_deserialize(scam[j])\n",
    "            y_pred_w[b, j, :, :] = cam.inverse_project(y_pred_uvd[j])\n",
    "\n",
    "        # Move the root joint from predicted poses to the origin\n",
    "        y_pred_w[b, :, :, :] -= y_pred_w[b, :, 0:1, :]\n",
    "\n",
    "        err_w = measures.mean_distance_error(y_true_w[:, 0:, :], y_pred_w[b, :, 0:, :])\n",
    "        scores.append(err_w)\n",
    "        if verbose:\n",
    "            log.printc(log.WARNING, ' %.1f' % err_w)\n",
    "\n",
    "        # Keep the best prediction\n",
    "        if err_w < lower_err:\n",
    "            lower_err = err_w\n",
    "\n",
    "    if verbose:\n",
    "        log.printcn('', '')\n",
    "\n",
    "    if logdir is not None:\n",
    "        np.save('%s/y_pred_w.npy' % logdir, y_pred_w)\n",
    "        np.save('%s/y_true_w.npy' % logdir, y_true_w)\n",
    "\n",
    "    log.printcn(log.WARNING, 'Final averaged error (mm): %.3f' % lower_err)\n",
    "\n",
    "    return scores"
   ]
  },
  {
   "cell_type": "markdown",
   "metadata": {},
   "source": [
    "# model folder"
   ]
  },
  {
   "cell_type": "code",
   "execution_count": null,
   "metadata": {},
   "outputs": [],
   "source": [
    "# single h5 eval\n",
    "weights_path = '/home/caleml/pe_experiments/test_from_gpuserver2/weights_036.h5'\n",
    "eval_model = MultiBranchModel(dim=3, n_joints=17, nb_pose_blocks=1)\n",
    "eval_model.load_weights(weights_path, pose_only=True)\n",
    "scores = eval_human36m_sc_error(eval_model.model, \n",
    "                                x_val, \n",
    "                                pw_val, \n",
    "                                afmat_val,\n",
    "                                puvd_val[:,0,2], \n",
    "                                scam_val,  \n",
    "                                batch_size=24)\n",
    "\n",
    "pprint(scores)"
   ]
  },
  {
   "cell_type": "code",
   "execution_count": null,
   "metadata": {},
   "outputs": [],
   "source": [
    "# whole folder eval\n",
    "def eval_folder(exp_folder, dataset, pose_only=False):\n",
    "    config_path = os.path.join(exp_folder, 'config.yaml')\n",
    "    \n",
    "    # config\n",
    "    with open(config_path, 'r') as f_conf:\n",
    "        config = yaml.load(f_conf)\n",
    "        \n",
    "    # model\n",
    "    eval_model = MultiBranchModel(dim=3, n_joints=17, nb_pose_blocks=int(config['pose_blocks']), verbose=False)\n",
    "        \n",
    "    # find weights paths\n",
    "    weights = list()\n",
    "    for filename in os.listdir(exp_folder):\n",
    "        if filename.endswith(\".h5\") and filename.startswith(\"weights_\"):\n",
    "            weights.append(os.path.join(exp_folder, filename))\n",
    "            \n",
    "    weights.sort()\n",
    "    print(\"Found %s weights paths\" % len(weights))\n",
    "    \n",
    "    # actual eval\n",
    "    all_scores = list()\n",
    "    for i, weights_path in enumerate(weights[39:]):\n",
    "        time1 = time.time()\n",
    "        print(\"Eval of weights_path %s\" % weights_path)\n",
    "        eval_model.load_weights(weights_path, pose_only=pose_only)\n",
    "        \n",
    "        scores = eval_human36m_sc_error(eval_model.model, \n",
    "                                        dataset['x_val'], \n",
    "                                        dataset['pw_val'], \n",
    "                                        dataset['afmat_val'],\n",
    "                                        dataset['puvd_val'][:,0,2], \n",
    "                                        dataset['scam_val'],  \n",
    "                                        batch_size=24)\n",
    "        \n",
    "        time2 = time.time()\n",
    "        print(\"Scores for epoch %s: %s (in %s s)\" % (i + 40, str(scores), time2 - time1))\n",
    "        all_scores.append(max(scores))\n",
    "        \n",
    "    return all_scores\n",
    "        "
   ]
  },
  {
   "cell_type": "code",
   "execution_count": null,
   "metadata": {
    "scrolled": true
   },
   "outputs": [],
   "source": [
    "exp_baseline_path = '/home/caleml/pe_experiments/exp_baseline_1b_bs32_h36m_201903221052/'\n",
    "all_scores_baseline = eval_folder(exp_baseline_path, dataset, pose_only=True)"
   ]
  },
  {
   "cell_type": "code",
   "execution_count": null,
   "metadata": {},
   "outputs": [],
   "source": [
    "print(all_scores_baseline)\n",
    "history_baseline = [91.752, 82.462, 79.423, 88.836, 84.020, 86.886, 86.680, 79.484, 78.599, 84.097, 76.193, 77.141, 78.207, 81.432, 78.589, 77.009, 77.462, 76.312, 78.666]\n",
    "all_scores_baseline = history_baseline + all_scores_baseline[1:]\n",
    "assert len(all_scores_baseline) == 60"
   ]
  },
  {
   "cell_type": "code",
   "execution_count": null,
   "metadata": {},
   "outputs": [],
   "source": [
    "exp_hybrid_path = '/home/caleml/pe_experiments/exp_20190322_1942_hybrid_h36m__1b_bs16/'\n",
    "all_scores_hybrid = eval_folder(exp_hybrid_path, dataset, pose_only=False)"
   ]
  },
  {
   "cell_type": "markdown",
   "metadata": {},
   "source": [
    "# Viz"
   ]
  },
  {
   "cell_type": "code",
   "execution_count": 56,
   "metadata": {},
   "outputs": [],
   "source": [
    "# bare exps\n",
    "exps = {\n",
    "    'hybrid': '/home/caleml/pe_experiments/exp_20190404_1450_hybrid_h36m__2b_bs16',\n",
    "    'baseline': '/home/caleml/pe_experiments/exp_20190404_1450_baseline_h36m__2b_bs32'\n",
    "}"
   ]
  },
  {
   "cell_type": "code",
   "execution_count": 1,
   "metadata": {},
   "outputs": [],
   "source": [
    "# exps with LRS\n",
    "exps = {\n",
    "    'hybrid': '/home/caleml/pe_experiments/exp_20190410_0340_hybrid_None_2b_bs16',\n",
    "    'baseline': '/home/caleml/pe_experiments/exp_20190410_1022_baseline_None_2b_bs32'\n",
    "}"
   ]
  },
  {
   "cell_type": "code",
   "execution_count": 22,
   "metadata": {},
   "outputs": [
    {
     "name": "stdout",
     "output_type": "stream",
     "text": [
      "[86.36421394934709, 78.49921681790572, 75.10554740141029, 73.32230760096866, 72.8012966805939, 72.87159225565992, 69.68850360937128, 70.31272078251344, 67.56113543149792, 75.07888298949999, 73.09334124427082, 69.69876405005563]\n",
      "[82.74687301724192, 82.92846993873513, 89.64971210874673, 74.34588279944747, 77.55752527718913, 83.87396863284279, 81.65929107097016, 82.7696110650436, 76.16555072079605, 90.27753255599963, 77.9324535750682]\n"
     ]
    }
   ],
   "source": [
    "results = dict()\n",
    "best_data = dict()\n",
    "x_range = 0\n",
    "\n",
    "for exp_name, exp_path in exps.items():\n",
    "    \n",
    "    scores = list()\n",
    "    best_score = np.inf\n",
    "    best_epoch = None\n",
    "    \n",
    "    with open(os.path.join(exp_path, 'h36m_val.json'), 'r') as f_val:\n",
    "        val_data = json.loads(f_val.read())\n",
    "        \n",
    "        for (epoch, epoch_scores) in sorted(val_data.items(), key=lambda x: int(x[0])):\n",
    "            best = min(epoch_scores)\n",
    "            scores.append(best)\n",
    "            \n",
    "            if best < best_score:\n",
    "                best_score = best\n",
    "                best_epoch = epoch\n",
    "            \n",
    "    print(scores)\n",
    "        \n",
    "    if len(scores) > x_range:\n",
    "        x_range = len(scores)\n",
    "        \n",
    "    results[exp_name] = scores\n",
    "    best_data[exp_name] = [best_epoch, best_score]\n",
    "    "
   ]
  },
  {
   "cell_type": "code",
   "execution_count": 23,
   "metadata": {},
   "outputs": [
    {
     "data": {
      "text/plain": [
       "{'baseline': ['9', 67.56113543149792], 'hybrid': ['4', 74.34588279944747]}"
      ]
     },
     "execution_count": 23,
     "metadata": {},
     "output_type": "execute_result"
    }
   ],
   "source": [
    "best_data"
   ]
  },
  {
   "cell_type": "code",
   "execution_count": 25,
   "metadata": {},
   "outputs": [
    {
     "data": {
      "image/png": "[encoded data removed]",
      "text/plain": [
       "<Figure size 432x288 with 1 Axes>"
      ]
     },
     "metadata": {
      "needs_background": "light"
     },
     "output_type": "display_data"
    }
   ],
   "source": [
    "import matplotlib.pyplot as plt\n",
    "\n",
    "x_range = 12\n",
    "x = list(range(x_range))\n",
    "\n",
    "for exp_name, exp_scores in results.items():\n",
    "    if len(exp_scores) < x_range:\n",
    "        exp_scores = exp_scores + [None] * (x_range - len(exp_scores))\n",
    "    plt.plot(x, exp_scores, label=exp_name)\n",
    "\n",
    "# plt.plot(x, all_scores_baseline, label='1 block baseline')\n",
    "    \n",
    "plt.title('Baseline val')\n",
    "plt.xlabel('epoch')\n",
    "plt.ylabel('MPJPE')\n",
    "plt.legend()\n",
    "plt.show()\n",
    "\n",
    "# plt.savefig('/home/caleml/pe_experiments/exp_baseline_1b_bs32_h36m_201903221052/eval.png')"
   ]
  },
  {
   "cell_type": "code",
   "execution_count": 11,
   "metadata": {},
   "outputs": [],
   "source": [
    "all_scores_baseline = [91.75194501441577, 82.46205898898975, 79.4226132617545, 88.8355976647399, 84.02042960060331, 86.88580619918093, 86.67989807960359, 79.48412115594127, 78.59867146077222, 84.09675808749151, 76.1932848291697, 77.14141621003114, 78.2065916383256, 81.43181095386677, 78.58923745192591, 77.008543664543, 77.46245838987596, 76.31208539465088, 78.66618899639796, 75.53613154051648, 83.53373459959678, 76.01499659875537, 74.4797050967049, 79.84342586353483, 77.25320791938644, 76.69853350783292, 76.45083687520106, 77.09345226614492, 75.78290824659078, 77.9041891354044, 78.09753993393933, 76.60042799938726, 77.5805151579404, 78.8091096371011, 74.80468494705836, 74.2166559806093, 77.63991530864764, 77.89325147099139, 78.38807773666701, 80.47055450518361, 73.81642579401903 , 75.0416006683364 , 74.48196930787806 , 75.15854590724823 , 73.66802279838019 , 75.19603076463348 , 74.01143213366338 , 75.08591589680957 , 75.55668131643323 , 77.11394826271881 , 74.44167918712098 , 75.63973677387979 , 76.3378921014415 , 74.73289168541717 , 73.95828566807859 , 75.55537095370421 , 75.78301989366678 , 74.91063809506264 , 74.59803512567959 , 74.75948044066446]"
   ]
  },
  {
   "cell_type": "code",
   "execution_count": null,
   "metadata": {},
   "outputs": [],
   "source": []
  },
  {
   "cell_type": "code",
   "execution_count": null,
   "metadata": {},
   "outputs": [],
   "source": []
  }
 ],
 "metadata": {
  "kernelspec": {
   "display_name": "Python 3",
   "language": "python",
   "name": "python3"
  },
  "language_info": {
   "codemirror_mode": {
    "name": "ipython",
    "version": 3
   },
   "file_extension": ".py",
   "mimetype": "text/x-python",
   "name": "python",
   "nbconvert_exporter": "python",
   "pygments_lexer": "ipython3",
   "version": "3.4.6"
  }
 },
 "nbformat": 4,
 "nbformat_minor": 2
}

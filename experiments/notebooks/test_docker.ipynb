{
 "cells": [
  {
   "cell_type": "code",
   "execution_count": null,
   "metadata": {},
   "outputs": [],
   "source": [
    "%load_ext autoreload\n",
    "%autoreload 2"
   ]
  },
  {
   "cell_type": "code",
   "execution_count": null,
   "metadata": {},
   "outputs": [],
   "source": [
    "import datetime\n",
    "import os\n",
    "import sys\n",
    "import time"
   ]
  },
  {
   "cell_type": "code",
   "execution_count": null,
   "metadata": {},
   "outputs": [],
   "source": [
    "sys.path.append(\"/workspace/main-pe/\")"
   ]
  },
  {
   "cell_type": "code",
   "execution_count": null,
   "metadata": {},
   "outputs": [],
   "source": [
    "import tensorflow as tf\n",
    "tf.__version__"
   ]
  },
  {
   "cell_type": "code",
   "execution_count": null,
   "metadata": {},
   "outputs": [],
   "source": [
    "from data.datasets.mpii import MpiiSinglePerson\n",
    "from data.datasets.h36m import Human36M\n",
    "from data.utils.data_utils import TEST_MODE, TRAIN_MODE, VALID_MODE\n",
    "from data.loader import BatchLoader"
   ]
  },
  {
   "cell_type": "code",
   "execution_count": null,
   "metadata": {},
   "outputs": [],
   "source": [
    "from model import config\n",
    "from model import callbacks\n",
    "from model.utils import pose_format, log"
   ]
  },
  {
   "cell_type": "code",
   "execution_count": null,
   "metadata": {},
   "outputs": [],
   "source": [
    "from experiments.common import exp_init"
   ]
  },
  {
   "cell_type": "code",
   "execution_count": null,
   "metadata": {},
   "outputs": [],
   "source": [
    "# for custom objects\n",
    "from model.activations import channel_softmax_2d\n",
    "from model.losses import reconstruction_loss, pose_loss"
   ]
  },
  {
   "cell_type": "markdown",
   "metadata": {},
   "source": [
    "# datasets"
   ]
  },
  {
   "cell_type": "code",
   "execution_count": null,
   "metadata": {},
   "outputs": [],
   "source": [
    "conf = {\n",
    "    'pose_blocks': 2,\n",
    "    'batch_size': 16,\n",
    "    'dim': 2,\n",
    "    'n_joints': 16,\n",
    "    'dataset_name': 'mpii',\n",
    "    'n_epochs': 2\n",
    "}"
   ]
  },
  {
   "cell_type": "code",
   "execution_count": null,
   "metadata": {},
   "outputs": [],
   "source": [
    "mpii_path = '/workspace/datasets/mpii'\n",
    "mpii = MpiiSinglePerson(mpii_path, dataconf=config.mpii_dataconf)"
   ]
  },
  {
   "cell_type": "code",
   "execution_count": null,
   "metadata": {},
   "outputs": [],
   "source": [
    "data_tr_mpii = BatchLoader(mpii,\n",
    "                           ['frame'],\n",
    "                           ['frame'] + ['pose'] * conf['pose_blocks'],\n",
    "                           TRAIN_MODE,\n",
    "                           batch_size=conf['batch_size'],\n",
    "                           shuffle=False)"
   ]
  },
  {
   "cell_type": "code",
   "execution_count": null,
   "metadata": {},
   "outputs": [],
   "source": [
    "mpii_eval = MpiiSinglePerson(mpii_path, dataconf=config.mpii_dataconf)\n",
    "data_val_mpii = BatchLoader(\n",
    "    mpii_eval, \n",
    "    ['frame'], \n",
    "    ['frame', 'pose', 'afmat', 'headsize'], \n",
    "    mode=VALID_MODE,\n",
    "    shuffle=False)\n",
    "\n",
    "len(data_val_mpii)"
   ]
  },
  {
   "cell_type": "markdown",
   "metadata": {},
   "source": [
    "## h36m"
   ]
  },
  {
   "cell_type": "code",
   "execution_count": null,
   "metadata": {},
   "outputs": [],
   "source": [
    "conf = {\n",
    "    'exp_type': 'hybrid_reduced_SAVEFIX_TEST_NB',\n",
    "    'dim': 3,\n",
    "    'n_joints': 17,\n",
    "    'pose_blocks': 2,\n",
    "    'dataset_name': 'h36m',\n",
    "    'batch_size': 16,\n",
    "    'n_epochs': 60\n",
    "}"
   ]
  },
  {
   "cell_type": "code",
   "execution_count": null,
   "metadata": {},
   "outputs": [],
   "source": [
    "h36m_path = '/workspace/datasets/h36m'\n",
    "h36m = Human36M(h36m_path, dataconf=config.human36m_dataconf, poselayout=pose_format.pa17j3d, topology='frames') "
   ]
  },
  {
   "cell_type": "code",
   "execution_count": null,
   "metadata": {},
   "outputs": [],
   "source": [
    "# classical i_hat + pose format\n",
    "data_tr_h36m = BatchLoader(\n",
    "        h36m, \n",
    "        ['frame'], \n",
    "        ['frame'] + ['pose'] * conf['pose_blocks'],\n",
    "        TRAIN_MODE, \n",
    "        batch_size=conf['batch_size'],\n",
    "        shuffle=True)"
   ]
  },
  {
   "cell_type": "code",
   "execution_count": null,
   "metadata": {},
   "outputs": [],
   "source": [
    "# validation dataset\n",
    "h36m_val = BatchLoader(\n",
    "    h36m, \n",
    "    ['frame'], \n",
    "    ['pose_w', 'pose_uvd', 'afmat', 'camera'], \n",
    "    VALID_MODE, \n",
    "    batch_size=h36m.get_length(VALID_MODE), \n",
    "    shuffle=True)"
   ]
  },
  {
   "cell_type": "code",
   "execution_count": null,
   "metadata": {},
   "outputs": [],
   "source": [
    "log.printcn(log.OKBLUE, 'Preloading Human3.6M validation samples...')\n",
    "[x_val], [pw_val, puvd_val, afmat_val, scam_val] = h36m_val[0]"
   ]
  },
  {
   "cell_type": "markdown",
   "metadata": {},
   "source": [
    "# 1. non nested model"
   ]
  },
  {
   "cell_type": "code",
   "execution_count": null,
   "metadata": {},
   "outputs": [],
   "source": [
    "from model.networks.old_old_mbm import MultiBranchModel\n",
    "model = MultiBranchModel(dim=conf['dim'], nb_pose_blocks=conf['pose_blocks'])\n",
    "model.build()"
   ]
  },
  {
   "cell_type": "code",
   "execution_count": null,
   "metadata": {},
   "outputs": [],
   "source": [
    "conf['exp_type'] = '2d_NN_OLD_MBM_SAVE_TEST_NB'\n",
    "model_folder = exp_init(conf, base_folder='/workspace')"
   ]
  },
  {
   "cell_type": "code",
   "execution_count": null,
   "metadata": {},
   "outputs": [],
   "source": [
    "from model import callbacks\n",
    "cb_list = []\n",
    "cb_list.append(callbacks.SaveModel(model_folder))\n",
    "model.train(data_tr_mpii, steps_per_epoch=10, model_folder=model_folder, n_epochs=2, cb_list=cb_list)"
   ]
  },
  {
   "cell_type": "markdown",
   "metadata": {},
   "source": [
    "## loading"
   ]
  },
  {
   "cell_type": "code",
   "execution_count": null,
   "metadata": {},
   "outputs": [],
   "source": [
    "checkpoint = model_folder + \"/model_001.h5\"\n",
    "\n",
    "custom_objects = {\n",
    "    '_channel_softmax_2d': channel_softmax_2d(),\n",
    "    '_rec_loss': reconstruction_loss(),\n",
    "    '_pose_loss': pose_loss()\n",
    "}"
   ]
  },
  {
   "cell_type": "code",
   "execution_count": null,
   "metadata": {},
   "outputs": [],
   "source": [
    "from model.networks.old_old_mbm import MultiBranchModel\n",
    "print(\"Loading from %s\" % checkpoint)\n",
    "eval_model = MultiBranchModel(dim=conf['dim'], nb_pose_blocks=conf['pose_blocks'])\n",
    "eval_model.load(checkpoint, custom_objects=custom_objects)"
   ]
  },
  {
   "cell_type": "markdown",
   "metadata": {},
   "source": [
    "# 2. Nested"
   ]
  },
  {
   "cell_type": "code",
   "execution_count": null,
   "metadata": {},
   "outputs": [],
   "source": [
    "from model.networks.multi_branch_model import MultiBranchModel\n",
    "model = MultiBranchModel(dim=conf['dim'], n_joints=conf['n_joints'], nb_pose_blocks=conf['pose_blocks'])\n",
    "model.build()"
   ]
  },
  {
   "cell_type": "code",
   "execution_count": null,
   "metadata": {},
   "outputs": [],
   "source": [
    "conf['exp_type'] = '2d_NEW_MBM_SAVE_TEST_NB'\n",
    "model_folder = exp_init(conf, base_folder='/workspace')"
   ]
  },
  {
   "cell_type": "code",
   "execution_count": null,
   "metadata": {},
   "outputs": [],
   "source": [
    "from model import callbacks\n",
    "cb_list = []\n",
    "cb_list.append(callbacks.SaveModel(model_folder))\n",
    "model.train(data_tr_mpii, steps_per_epoch=10, model_folder=model_folder, n_epochs=2, cb_list=cb_list)"
   ]
  },
  {
   "cell_type": "markdown",
   "metadata": {},
   "source": [
    "## load nested"
   ]
  },
  {
   "cell_type": "code",
   "execution_count": null,
   "metadata": {},
   "outputs": [],
   "source": [
    "# checkpoint = model_folder + \"/model_001.h5\"\n",
    "checkpoint = '/workspace/pe_experiments/exp_20190516_1821_2d_NEW_MBM_SAVE_TEST_NB__1b_bs16/model_001.h5'\n",
    "\n",
    "custom_objects = {\n",
    "    '_channel_softmax_2d': channel_softmax_2d(),\n",
    "    '_rec_loss': reconstruction_loss(),\n",
    "    '_pose_loss': pose_loss()\n",
    "}"
   ]
  },
  {
   "cell_type": "code",
   "execution_count": null,
   "metadata": {},
   "outputs": [],
   "source": [
    "from model.networks.multi_branch_model import MultiBranchModel\n",
    "print(\"Loading from %s\" % checkpoint)\n",
    "eval_model = MultiBranchModel(dim=conf['dim'], n_joints=conf['n_joints'], nb_pose_blocks=conf['pose_blocks'])\n",
    "eval_model.load(checkpoint, custom_objects=custom_objects)"
   ]
  },
  {
   "cell_type": "markdown",
   "metadata": {},
   "source": [
    "# 3. semi nested"
   ]
  },
  {
   "cell_type": "code",
   "execution_count": null,
   "metadata": {},
   "outputs": [],
   "source": [
    "from model.networks.old_mbm import MultiBranchModel\n",
    "model = MultiBranchModel(dim=conf['dim'], n_joints=conf['n_joints'], nb_pose_blocks=conf['pose_blocks'])\n",
    "model.build()"
   ]
  },
  {
   "cell_type": "code",
   "execution_count": null,
   "metadata": {},
   "outputs": [],
   "source": [
    "conf['exp_type'] = '2d_OLD_1b_MBM_SAVE_TEST_NB'\n",
    "model_folder = exp_init(conf, base_folder='/workspace')"
   ]
  },
  {
   "cell_type": "code",
   "execution_count": null,
   "metadata": {},
   "outputs": [],
   "source": [
    "from model import callbacks\n",
    "cb_list = []\n",
    "cb_list.append(callbacks.SaveModel(model_folder))\n",
    "model.train(data_tr_mpii, steps_per_epoch=10, model_folder=model_folder, n_epochs=2, cb_list=cb_list)"
   ]
  },
  {
   "cell_type": "code",
   "execution_count": null,
   "metadata": {},
   "outputs": [],
   "source": [
    "checkpoint = model_folder + \"/model_001.h5\"\n",
    "# checkpoint = '/workspace/pe_experiments/exp_20190516_1028_2d_OLD_1b_MBM_SAVE_TEST_NB__1b_bs16/model_001.h5'\n",
    "\n",
    "custom_objects = {\n",
    "    '_channel_softmax_2d': channel_softmax_2d(),\n",
    "    '_rec_loss': reconstruction_loss(),\n",
    "    '_pose_loss': pose_loss()\n",
    "}"
   ]
  },
  {
   "cell_type": "code",
   "execution_count": null,
   "metadata": {},
   "outputs": [],
   "source": [
    "from model.networks.multi_branch_model import MultiBranchModel\n",
    "print(\"Loading from %s\" % checkpoint)\n",
    "eval_model = MultiBranchModel(dim=conf['dim'], n_joints=conf['n_joints'], nb_pose_blocks=conf['pose_blocks'])\n",
    "eval_model.load(checkpoint, custom_objects=custom_objects)"
   ]
  },
  {
   "cell_type": "code",
   "execution_count": null,
   "metadata": {},
   "outputs": [],
   "source": [
    "from model.networks.multi_branch_model import MultiBranchModel\n",
    "print(\"Loading from %s\" % checkpoint)\n",
    "eval_model = MultiBranchModel(dim=conf['dim'], n_joints=conf['n_joints'], nb_pose_blocks=conf['pose_blocks'])\n",
    "eval_model.load(checkpoint, custom_objects=custom_objects)"
   ]
  },
  {
   "cell_type": "markdown",
   "metadata": {},
   "source": [
    "# 4. Reduced nested"
   ]
  },
  {
   "cell_type": "code",
   "execution_count": null,
   "metadata": {},
   "outputs": [],
   "source": [
    "from model.networks.mbm_reduced import MultiBranchReduced\n",
    "model = MultiBranchReduced(dim=conf['dim'], n_joints=conf['n_joints'], nb_pose_blocks=conf['pose_blocks'])\n",
    "model.build()"
   ]
  },
  {
   "cell_type": "code",
   "execution_count": null,
   "metadata": {},
   "outputs": [],
   "source": [
    "conf['exp_type'] = '2d_reduced_SAVE_TEST_NB'\n",
    "model_folder = exp_init(conf, base_folder='/workspace')"
   ]
  },
  {
   "cell_type": "code",
   "execution_count": null,
   "metadata": {},
   "outputs": [],
   "source": [
    "from model import callbacks\n",
    "cb_list = []\n",
    "cb_list.append(callbacks.SaveModel(model_folder))\n",
    "model.train(data_tr_h36m, steps_per_epoch=10, model_folder=model_folder, n_epochs=2, cb_list=cb_list)"
   ]
  },
  {
   "cell_type": "code",
   "execution_count": null,
   "metadata": {},
   "outputs": [],
   "source": [
    "checkpoint = model_folder + \"/model_001.h5\"\n",
    "# checkpoint = '/workspace/pe_experiments/exp_20190517_1419_2d_reduced_SAVE_TEST_NB__2b_bs16/weights_001.h5'\n",
    "\n",
    "custom_objects = {\n",
    "    '_channel_softmax_2d': channel_softmax_2d(),\n",
    "    '_rec_loss': reconstruction_loss(),\n",
    "    '_pose_loss': pose_loss()\n",
    "}"
   ]
  },
  {
   "cell_type": "code",
   "execution_count": null,
   "metadata": {},
   "outputs": [],
   "source": [
    "checkpoint = '/workspace/pe_experiments/exp_20190517_1419_2d_reduced_SAVE_TEST_NB__2b_bs16/weights_001.h5'"
   ]
  },
  {
   "cell_type": "code",
   "execution_count": null,
   "metadata": {},
   "outputs": [],
   "source": [
    "from model.networks.mbm_reduced import MultiBranchReduced\n",
    "print(\"Loading from %s\" % checkpoint)\n",
    "eval_model = MultiBranchReduced(dim=conf['dim'], n_joints=conf['n_joints'], nb_pose_blocks=conf['pose_blocks'])\n",
    "eval_model.load_weights(checkpoint)"
   ]
  },
  {
   "cell_type": "markdown",
   "metadata": {},
   "source": [
    "## eval"
   ]
  },
  {
   "cell_type": "code",
   "execution_count": null,
   "metadata": {},
   "outputs": [],
   "source": [
    "data = data_val_mpii.get_data(1, VALID_MODE)\n",
    "print(data['frame'].shape)\n",
    "pred = eval_model.predict(data['frame'])"
   ]
  },
  {
   "cell_type": "code",
   "execution_count": null,
   "metadata": {},
   "outputs": [],
   "source": [
    "import matplotlib.pyplot as plt\n",
    "\n",
    "n_cols = 2\n",
    "n_rows = len(data['frame'])\n",
    "fig = plt.figure(figsize=(8, 75))\n",
    "\n",
    "print(len(data['frame']))\n",
    "print(len(pred[0]))\n",
    "\n",
    "i_img = 1\n",
    "for i, data_img in enumerate(data['frame']):\n",
    "    fig.add_subplot(n_rows, n_cols, i_img)\n",
    "    plt.imshow(data_img)\n",
    "    \n",
    "    pred_img = pred[0][i]\n",
    "    fig.add_subplot(n_rows, n_cols, i_img + 1)\n",
    "    plt.imshow(pred_img)\n",
    "    \n",
    "    i_img += 2\n",
    "    \n",
    "plt.show()"
   ]
  },
  {
   "cell_type": "markdown",
   "metadata": {},
   "source": [
    "## 3d eval"
   ]
  },
  {
   "cell_type": "code",
   "execution_count": null,
   "metadata": {},
   "outputs": [],
   "source": [
    "# data = data_val_h36m.get_data(1, VALID_MODE)\n",
    "print(x_val.shape)\n",
    "pred = eval_model.predict(x_val[0])"
   ]
  },
  {
   "cell_type": "markdown",
   "metadata": {},
   "source": [
    "## debug"
   ]
  },
  {
   "cell_type": "code",
   "execution_count": null,
   "metadata": {},
   "outputs": [],
   "source": [
    "import h5py\n",
    "import numpy as np\n",
    "hf = h5py.File(checkpoint, 'r')"
   ]
  },
  {
   "cell_type": "code",
   "execution_count": null,
   "metadata": {},
   "outputs": [],
   "source": [
    "hf.keys()"
   ]
  },
  {
   "cell_type": "code",
   "execution_count": null,
   "metadata": {},
   "outputs": [],
   "source": [
    "a = hf['model_weights']"
   ]
  },
  {
   "cell_type": "code",
   "execution_count": null,
   "metadata": {},
   "outputs": [],
   "source": [
    "print(type(a['pose_model']['stem1_conv']))\n",
    "b = a['pose_model']['stem1_conv']\n",
    "list(b.items())"
   ]
  },
  {
   "cell_type": "code",
   "execution_count": null,
   "metadata": {},
   "outputs": [],
   "source": [
    "n1 = a['pose_model']['stem1_conv']\n",
    "n1 = np.array(n1)\n",
    "n1.shape"
   ]
  },
  {
   "cell_type": "code",
   "execution_count": null,
   "metadata": {},
   "outputs": [],
   "source": [
    "a['pose_model'].keys()\n"
   ]
  },
  {
   "cell_type": "code",
   "execution_count": null,
   "metadata": {},
   "outputs": [],
   "source": []
  }
 ],
 "metadata": {
  "kernelspec": {
   "display_name": "Python 3",
   "language": "python",
   "name": "python3"
  },
  "language_info": {
   "codemirror_mode": {
    "name": "ipython",
    "version": 3
   },
   "file_extension": ".py",
   "mimetype": "text/x-python",
   "name": "python",
   "nbconvert_exporter": "python",
   "pygments_lexer": "ipython3",
   "version": "3.5.2"
  }
 },
 "nbformat": 4,
 "nbformat_minor": 2
}

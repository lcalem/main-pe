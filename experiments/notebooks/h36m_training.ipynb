{
 "cells": [
  {
   "cell_type": "code",
   "execution_count": 1,
   "metadata": {},
   "outputs": [],
   "source": [
    "%load_ext autoreload\n",
    "%autoreload 2"
   ]
  },
  {
   "cell_type": "code",
   "execution_count": 2,
   "metadata": {},
   "outputs": [],
   "source": [
    "import datetime\n",
    "import os\n",
    "import sys\n",
    "import time"
   ]
  },
  {
   "cell_type": "code",
   "execution_count": 3,
   "metadata": {},
   "outputs": [],
   "source": [
    "sys.path.append(\"/home/caleml/main-pe/\")"
   ]
  },
  {
   "cell_type": "code",
   "execution_count": 4,
   "metadata": {},
   "outputs": [],
   "source": [
    "from data.datasets.h36m import Human36M\n",
    "from data.utils.data_utils import TEST_MODE, TRAIN_MODE, VALID_MODE\n",
    "from data.loader import BatchLoader\n",
    "\n",
    "from experiments.common import exp_init"
   ]
  },
  {
   "cell_type": "code",
   "execution_count": 12,
   "metadata": {},
   "outputs": [],
   "source": [
    "from model import blocks\n",
    "from model import layers\n",
    "from model import losses\n",
    "from model import config\n",
    "from model import callbacks\n",
    "from model.utils import pose_format, log"
   ]
  },
  {
   "cell_type": "code",
   "execution_count": 6,
   "metadata": {},
   "outputs": [],
   "source": [
    "from model.networks.multi_branch_model import MultiBranchModel\n",
    "from model.networks.mbm_vgg import MultiBranchVGGModel"
   ]
  },
  {
   "cell_type": "markdown",
   "metadata": {},
   "source": [
    "# Dataset"
   ]
  },
  {
   "cell_type": "code",
   "execution_count": 7,
   "metadata": {},
   "outputs": [],
   "source": [
    "# local loading\n",
    "h36m_path = '/home/caleml/datasets/h36m'\n",
    "h36m = Human36M(h36m_path, dataconf=config.human36m_dataconf, poselayout=pose_format.pa17j3d, topology='frames') "
   ]
  },
  {
   "cell_type": "code",
   "execution_count": 8,
   "metadata": {},
   "outputs": [],
   "source": [
    "conf = {\n",
    "    'exp_type': 'hybrid_vgg_TEST_NB',\n",
    "    'dim': 3,\n",
    "    'n_joints': 17,\n",
    "    'pose_blocks': 2,\n",
    "    'dataset_name': 'h36m',\n",
    "    'batch_size': 8,\n",
    "    'n_epochs': 60\n",
    "}"
   ]
  },
  {
   "cell_type": "code",
   "execution_count": 15,
   "metadata": {},
   "outputs": [
    {
     "name": "stdout",
     "output_type": "stream",
     "text": [
      "Conducting experiment for 60 epochs and 2 blocks in folder /home/caleml/pe_experiments/exp_20190411_1240_hybrid_vgg_TEST_NB__2b_bs8\n"
     ]
    }
   ],
   "source": [
    "model_folder = exp_init(conf)"
   ]
  },
  {
   "cell_type": "code",
   "execution_count": null,
   "metadata": {},
   "outputs": [],
   "source": [
    "# validation dataset\n",
    "h36m_val = BatchLoader(\n",
    "    h36m, \n",
    "    ['frame'], \n",
    "    ['pose_w', 'pose_uvd', 'afmat', 'camera'], \n",
    "    VALID_MODE, \n",
    "    batch_size=h36m.get_length(VALID_MODE), \n",
    "    shuffle=True)"
   ]
  },
  {
   "cell_type": "code",
   "execution_count": null,
   "metadata": {},
   "outputs": [],
   "source": [
    "log.printcn(log.OKBLUE, 'Preloading Human3.6M validation samples...')\n",
    "[x_val], [pw_val, puvd_val, afmat_val, scam_val] = h36m_val[0]"
   ]
  },
  {
   "cell_type": "code",
   "execution_count": null,
   "metadata": {},
   "outputs": [],
   "source": [
    "eval_callback = callbacks.H36MEvalCallback(conf['pose_blocks'], x_val, pw_val, afmat_val, puvd_val[:,0,2], scam_val, logdir=model_folder)"
   ]
  },
  {
   "cell_type": "markdown",
   "metadata": {},
   "source": [
    "# Training"
   ]
  },
  {
   "cell_type": "code",
   "execution_count": 9,
   "metadata": {},
   "outputs": [
    {
     "name": "stdout",
     "output_type": "stream",
     "text": [
      "y_dict ['action', 'action', 'action', 'pose', 'pose'], allkeys ['frame', 'action', 'action', 'action', 'pose', 'pose']\n"
     ]
    }
   ],
   "source": [
    "data_tr_h36m = BatchLoader(\n",
    "        h36m, \n",
    "        ['frame'], \n",
    "        ['action'] * 3 + ['pose'] * conf['pose_blocks'],\n",
    "        TRAIN_MODE, \n",
    "        batch_size=conf['batch_size'],\n",
    "        shuffle=True)"
   ]
  },
  {
   "cell_type": "code",
   "execution_count": null,
   "metadata": {},
   "outputs": [],
   "source": [
    "data_tr_h36m = BatchLoader(\n",
    "        h36m, \n",
    "        ['frame'], \n",
    "        ['phony_2_b_256_256_64', 'phony_2_b_128_128_128', 'phony_2_b_64_64_256'] + ['pose'] * conf['pose_blocks'],\n",
    "        TRAIN_MODE, \n",
    "        batch_size=conf['batch_size'],\n",
    "        shuffle=True)"
   ]
  },
  {
   "cell_type": "markdown",
   "metadata": {},
   "source": [
    "### Classical multi branch"
   ]
  },
  {
   "cell_type": "code",
   "execution_count": null,
   "metadata": {},
   "outputs": [],
   "source": [
    "model = MultiBranchModel(dim=conf['dim'], n_joints=conf['n_joints'], nb_pose_blocks=conf['pose_blocks'])\n",
    "model.build()"
   ]
  },
  {
   "cell_type": "code",
   "execution_count": null,
   "metadata": {},
   "outputs": [],
   "source": [
    "# model.add_callback(eval_callback)"
   ]
  },
  {
   "cell_type": "code",
   "execution_count": null,
   "metadata": {},
   "outputs": [],
   "source": [
    "model.train(data_tr_h36m, steps_per_epoch=len(data_tr_h36m), model_folder=model_folder, n_epochs=conf['n_epochs'], cb_list=[])"
   ]
  },
  {
   "cell_type": "code",
   "execution_count": null,
   "metadata": {},
   "outputs": [],
   "source": [
    "# short test for cb\n",
    "model.train(data_tr_h36m, steps_per_epoch=10, model_folder=model_folder, n_epochs=conf['n_epochs'])"
   ]
  },
  {
   "cell_type": "markdown",
   "metadata": {},
   "source": [
    "### VGG multi branch"
   ]
  },
  {
   "cell_type": "code",
   "execution_count": 13,
   "metadata": {},
   "outputs": [
    {
     "name": "stderr",
     "output_type": "stream",
     "text": [
      "/home/caleml/.local/lib/python3.4/site-packages/keras_applications/resnet50.py:265: UserWarning: The output shape of `ResNet50(include_top=False)` has been changed since Keras 2.2.0.\n",
      "  warnings.warn('The output shape of `ResNet50(include_top=False)` '\n"
     ]
    },
    {
     "name": "stdout",
     "output_type": "stream",
     "text": [
      "pose shape (?, 17, 3), vis shape (?, 17, 1), concat shape (?, 17, 4)\n",
      "pose shape (?, 17, 3), vis shape (?, 17, 1), concat shape (?, 17, 4)\n",
      "Last H shape Tensor(\"fReMap2_2/batch_normalization_72/cond/Merge:0\", shape=(?, 32, 32, 576), dtype=float32)\n",
      "Build E_a 15.882208585739136, build E_p 40.95068168640137, decoder D 0.7762279510498047\n",
      "Input shape (?, 256, 256, 3)\n",
      "Shape z_a (?, 16, 16, 1024), shape z_p (?, 16, 16, 1024)\n",
      "Type vgg output <class 'list'>\n",
      "Shape layer 0: (?, 2, 256, 256, 64)\n",
      "Shape layer 1: (?, 2, 128, 128, 128)\n",
      "Shape layer 2: (?, 2, 64, 64, 256)\n",
      "Outputs shape [(None, 2, 256, 256, 64), (None, 2, 128, 128, 128), (None, 2, 64, 64, 256), (None, 17, 4), (None, 17, 4)]\n",
      "vgg y_pred shape (?, 2, 256, 256, 64) (vgg_rec_outputs (?, 256, 256, 64), vgg_ori_outputs (?, 256, 256, 64))\n",
      "vgg y_pred shape (?, 2, 128, 128, 128) (vgg_rec_outputs (?, 128, 128, 128), vgg_ori_outputs (?, 128, 128, 128))\n",
      "vgg y_pred shape (?, 2, 64, 64, 256) (vgg_rec_outputs (?, 64, 64, 256), vgg_ori_outputs (?, 64, 64, 256))\n",
      "__________________________________________________________________________________________________\n",
      "Layer (type)                    Output Shape         Param #     Connected to                     \n",
      "==================================================================================================\n",
      "input_50 (InputLayer)           (None, 256, 256, 3)  0                                            \n",
      "__________________________________________________________________________________________________\n",
      "model_12 (Model)                (None, 16, 16, 1024) 8589184     input_50[0][0]                   \n",
      "__________________________________________________________________________________________________\n",
      "model_15 (Model)                [(None, 17, 4), (Non 5622610     input_50[0][0]                   \n",
      "__________________________________________________________________________________________________\n",
      "concatenate_26 (Concatenate)    (None, 16, 16, 2048) 0           model_12[1][0]                   \n",
      "                                                                 model_15[1][2]                   \n",
      "__________________________________________________________________________________________________\n",
      "decoder (Model)                 (None, 256, 256, 3)  26477979    concatenate_26[0][0]             \n",
      "__________________________________________________________________________________________________\n",
      "model_16 (Model)                [(None, 256, 256, 64 555328      decoder[1][0]                    \n",
      "                                                                 input_50[0][0]                   \n",
      "__________________________________________________________________________________________________\n",
      "lambda_60 (Lambda)              (None, 2, 256, 256,  0           model_16[1][0]                   \n",
      "                                                                 model_16[2][0]                   \n",
      "__________________________________________________________________________________________________\n",
      "lambda_61 (Lambda)              (None, 2, 128, 128,  0           model_16[1][1]                   \n",
      "                                                                 model_16[2][1]                   \n",
      "__________________________________________________________________________________________________\n",
      "lambda_62 (Lambda)              (None, 2, 64, 64, 25 0           model_16[1][2]                   \n",
      "                                                                 model_16[2][2]                   \n",
      "==================================================================================================\n",
      "Total params: 41,245,101\n",
      "Trainable params: 40,589,391\n",
      "Non-trainable params: 655,710\n",
      "__________________________________________________________________________________________________\n"
     ]
    }
   ],
   "source": [
    "model = MultiBranchVGGModel(dim=conf['dim'], n_joints=conf['n_joints'], nb_pose_blocks=conf['pose_blocks'])\n",
    "model.build()"
   ]
  },
  {
   "cell_type": "code",
   "execution_count": null,
   "metadata": {},
   "outputs": [
    {
     "name": "stdout",
     "output_type": "stream",
     "text": [
      "Training with 0 callbacks\n",
      "Epoch 1/60\n",
      "  420/39024 [..............................] - ETA: 5:07:48 - loss: 86.2167 - lambda_60_loss: 0.4976 - lambda_61_loss: 13.3235 - lambda_62_loss: 67.3673 - model_15_loss: 2.5691"
     ]
    }
   ],
   "source": [
    "model.train(data_tr_h36m, steps_per_epoch=len(data_tr_h36m), model_folder=model_folder, n_epochs=conf['n_epochs'], cb_list=[])"
   ]
  },
  {
   "cell_type": "markdown",
   "metadata": {},
   "source": [
    "# VGG debug stuff"
   ]
  },
  {
   "cell_type": "code",
   "execution_count": null,
   "metadata": {},
   "outputs": [],
   "source": [
    "from tensorflow.keras.applications import VGG16"
   ]
  },
  {
   "cell_type": "code",
   "execution_count": null,
   "metadata": {},
   "outputs": [],
   "source": [
    "vgg_model = VGG16(include_top=False, weights='imagenet', input_shape=(256, 256, 3))"
   ]
  },
  {
   "cell_type": "code",
   "execution_count": null,
   "metadata": {},
   "outputs": [],
   "source": [
    "vgg_model.summary()"
   ]
  },
  {
   "cell_type": "code",
   "execution_count": null,
   "metadata": {},
   "outputs": [],
   "source": [
    "output_layers = [1,3,4,6,7]\n",
    "for i in output_layers:\n",
    "    print(vgg_model.layers[i].name)"
   ]
  },
  {
   "cell_type": "code",
   "execution_count": null,
   "metadata": {},
   "outputs": [],
   "source": [
    "# conv1_1,conv2_1,conv3_1,pool1,pool2\n",
    "# from https://discuss.pytorch.org/t/how-to-use-vgg-19-network-to-estimate-perceptual-loss/9981"
   ]
  },
  {
   "cell_type": "code",
   "execution_count": null,
   "metadata": {},
   "outputs": [],
   "source": [
    "a = 'phony_2_b_256_256_64'\n",
    "batch_size = 24\n",
    "b = [int(elt) if elt.lower() != 'b' else batch_size for elt in a.split('_')[1:]]"
   ]
  },
  {
   "cell_type": "code",
   "execution_count": null,
   "metadata": {},
   "outputs": [],
   "source": [
    "b"
   ]
  },
  {
   "cell_type": "code",
   "execution_count": null,
   "metadata": {},
   "outputs": [],
   "source": []
  }
 ],
 "metadata": {
  "kernelspec": {
   "display_name": "Python 3",
   "language": "python",
   "name": "python3"
  },
  "language_info": {
   "codemirror_mode": {
    "name": "ipython",
    "version": 3
   },
   "file_extension": ".py",
   "mimetype": "text/x-python",
   "name": "python",
   "nbconvert_exporter": "python",
   "pygments_lexer": "ipython3",
   "version": "3.4.6"
  }
 },
 "nbformat": 4,
 "nbformat_minor": 2
}
